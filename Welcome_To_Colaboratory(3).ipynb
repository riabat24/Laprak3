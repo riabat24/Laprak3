{
  "cells": [
    {
      "cell_type": "code",
      "source": [
        "# soal 3.1 : 1\n",
        "\n",
        "try:\n",
        "    suhu = int(input(\"masukan sushu tubuh :\"))\n",
        "    if suhu >=38:\n",
        "        print(\"anda demam\")\n",
        "    else :\n",
        "        print(\"anda tidak demam\")\n",
        "except :\n",
        "    print(\"tidak valid\")"
      ],
      "metadata": {
        "id": "AfN9tW_GgmWK"
      },
      "execution_count": null,
      "outputs": []
    },
    {
      "cell_type": "code",
      "source": [
        "# soal 3.1 : 2\n",
        "\n",
        "try:\n",
        "    bilangan = int(input(\"Masukkan suatu bilangan: \"))\n",
        "    if bilangan > 0:\n",
        "        print(\"Bilangan Positif\")\n",
        "    elif bilangan < 0:\n",
        "        print(\"Bilanagn Negatif\")\n",
        "    elif bilangan == 0:\n",
        "        print(\"Angka Nol\")\n",
        "\n",
        "except:\n",
        "    print(\"inputan yang anda masukan salah\")\n",
        ""
      ],
      "metadata": {
        "id": "MBCVUV0Jguz-"
      },
      "execution_count": null,
      "outputs": []
    },
    {
      "cell_type": "code",
      "source": [
        "# soal 3.2 : 3\n",
        "\n",
        "try:\n",
        "    a = int(input(\"Masukkan bilangan pertama: \"))\n",
        "    b = int(input(\"Masukkan bilangan kedua: \"))\n",
        "    c = int(input(\"Masukkan bilangan ketiga: \"))\n",
        "\n",
        "    if a > b and a > c:\n",
        "        print(\"Terbesar: \", a)\n",
        "    elif b > a and b > c:\n",
        "        print(\"Terbesar: \", b)\n",
        "    elif c > a and c > b:\n",
        "        print(\"Terbesar: \", c)\n",
        "except:\n",
        "    print(\"Inputan yang anda masukan salah\")\n",
        ""
      ],
      "metadata": {
        "id": "Ybgf3MPUgu-g"
      },
      "execution_count": null,
      "outputs": []
    },
    {
      "cell_type": "code",
      "source": [
        "# soal 3.2\n",
        "\n",
        "bilangan = int(input(\"Masukan satu bilangan: \"))\n",
        "print(\"positif\" if bilangan > 0 else(\"negatif\" if bilangan < 0 else\"nol\"))"
      ],
      "metadata": {
        "id": "CtvBcE5rgvHj"
      },
      "execution_count": null,
      "outputs": []
    },
    {
      "cell_type": "code",
      "source": [
        "# soal 3.3\n",
        "\n",
        "try:\n",
        "    bulan = int(input(\"masukan bulan 1-12: \"))\n",
        "    if bulan == 2:\n",
        "        print(\"Jumlah hari 29\")\n",
        "    elif bulan == 1 or bulan == 3 or bulan == 5 or bulan == 7 or bulan ==8 or bulan ==10 or bulan ==12:\n",
        "        print(\"Jumlah hari 31\")\n",
        "    elif bulan == 4 or bulan == 6 or bulan ==9 or bulan == 11:\n",
        "        print(\"Jumlah hari 30\")\n",
        "    else:\n",
        "        print(\"bulan yang diinput tidak valid\")\n",
        "except:\n",
        "    print(\"Mohon di periksa kembali\")\n"
      ],
      "metadata": {
        "id": "ytoq_y_ggvP6"
      },
      "execution_count": null,
      "outputs": []
    },
    {
      "cell_type": "code",
      "source": [
        "# soal 3.4\n",
        "try:\n",
        "    sisi_1 = int(input(\"Masukan panjang sisi 1:\"))\n",
        "    sisi_2 = int(input(\"Masukan panjang sisi 2:\"))\n",
        "    sisi_3 = int(input(\"Masukan panjang sisi 3:\"))\n",
        "\n",
        "    if sisi_1 == sisi_2 == sisi_3:\n",
        "        print(\"3 sisi sama\")\n",
        "    elif sisi_1 == sisi_2 != sisi_3 or sisi_1 != sisi_2 == sisi_3 or sisi_1 == sisi_3 != sisi_2:\n",
        "        print(\"2 sisi sama\")\n",
        "    else:\n",
        "        print(\"Tidak ada yang sama\")\n",
        "except:\n",
        "    print(\"mohon di periksa kembali\")"
      ],
      "metadata": {
        "id": "x6KJrdzzgvXG"
      },
      "execution_count": null,
      "outputs": []
    }
  ],
  "metadata": {
    "colab": {
      "name": "Welcome To Colaboratory",
      "toc_visible": true,
      "provenance": []
    },
    "kernelspec": {
      "display_name": "Python 3",
      "name": "python3"
    }
  },
  "nbformat": 4,
  "nbformat_minor": 0
}